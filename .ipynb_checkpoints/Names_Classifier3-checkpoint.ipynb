{
 "cells": [
  {
   "cell_type": "markdown",
   "metadata": {},
   "source": [
    "# Data 620, Project 3\n",
    "July 10, 2019 \n",
    "Team 6: Alice Friedman, Scott Jones, Jeff Littlejohn, and Jun Pan\n",
    "\n",
    "## Assignment Description\n",
    "Using any of the three classifiers described in chapter 6 of Natural Language Processing with Python, and any features you can think of, build the best name gender classifier you can. Begin by splitting the Names Corpus into three subsets: 500 words for the test set, 500 words for the devtest set, and the remaining 6900 words for the training set. Then, starting with the example name gender classifier, make incremental improvements. Use the dev-test set to check your progress. Once you are satisfied with your classifier, check its final performance on the test set. How does the performance on the test set compare to the performance on the dev-test set? Is this what you'd expect?\n",
    "\n",
    "Source: Natural Language Processing with Python, exercise 6.10.2.\n",
    "\n",
    "### Text Classification: Identifying Gender from the ```NLTK``` Names Corpus  \n",
    "\n",
    "Adapted from:\n",
    "\n",
    "- [GitHub, Vinovator](https://gist.github.com/vinovator/6e5bf1e1bc61687a1e809780c30d6bf6)\n",
    "\n",
    "- [Geeks for Geeks: Python Gender Identification by Name](https://www.geeksforgeeks.org/python-gender-identification-by-name-using-nltk/)\n",
    "\n",
    "\n",
    "First, we import the names corpus from the ```nltk``` list of corpuses, and create three sets of names. "
   ]
  },
  {
   "cell_type": "code",
   "execution_count": 94,
   "metadata": {},
   "outputs": [],
   "source": [
    "import nltk\n",
    "from nltk.corpus import names\n",
    "import random\n",
    "import pandas as pd\n",
    "import numpy as np\n",
    "import matplotlib.pyplot as plt"
   ]
  },
  {
   "cell_type": "code",
   "execution_count": 95,
   "metadata": {},
   "outputs": [
    {
     "name": "stdout",
     "output_type": "stream",
     "text": [
      "[('Bartolemo', 'male'), ('Kaspar', 'male'), ('Roderigo', 'male'), ('Hy', 'male'), ('Gene', 'male')] 2943\n",
      "[('Nannette', 'female'), ('Anna-Diana', 'female'), ('Rosalia', 'female'), ('Elvina', 'female'), ('Kellina', 'female')] 5001\n",
      "[('Blayne', 'male'), ('Amabelle', 'female'), ('Wendel', 'male'), ('Dorene', 'female'), ('Gabriell', 'male')] 7944\n"
     ]
    }
   ],
   "source": [
    "mcorpus = [(name, \"male\") for name in names.words(\"male.txt\")]\n",
    "fcorpus = [(name, \"female\") for name in names.words(\"female.txt\")]\n",
    "random.shuffle(mcorpus); random.shuffle(fcorpus)\n",
    "print(mcorpus[0:5],len(mcorpus))\n",
    "print(fcorpus[0:5],len(fcorpus))\n",
    "\n",
    "corpus = mcorpus + fcorpus\n",
    "random.shuffle(corpus)\n",
    "print(corpus[:5], len(corpus))"
   ]
  },
  {
   "cell_type": "markdown",
   "metadata": {},
   "source": [
    "There are 2,943 names classified as male, 5,001 names classified as female, and 7,944 names total."
   ]
  },
  {
   "cell_type": "code",
   "execution_count": null,
   "metadata": {},
   "outputs": [],
   "source": [
    "## Data Exploration"
   ]
  },
  {
   "cell_type": "markdown",
   "metadata": {},
   "source": [
    "### Function definitions to process and classify the data "
   ]
  },
  {
   "cell_type": "markdown",
   "metadata": {},
   "source": [
    "Python slices lists from the first index up to *but not including* the second given index. This is counter-intutive, but ultimately makes it easier to slice lists consecutively as '''list[:10] + lists[10:]''' will return the complete, original list.\n",
    "\n",
    "From the textbook:  \n",
    "\"Each time the error analysis is repeated, we should select a *different* dev-test/training split, to ensure that the classifier does not start to reflect the idiosyncracies in the dev-test set.\" (pg 227)\n",
    "\n",
    "To prevent a lot of re-coding, we can write a function to remix the development-training corpus, after setting aside the first 500 male and female names as the final test slice."
   ]
  },
  {
   "cell_type": "markdown",
   "metadata": {},
   "source": [
    "From https://www.nltk.org/book/ch06.html:  \n",
    "\n",
    "\"In naive Bayes classifiers, every feature gets a say in determining which label should be assigned to a given input value. To choose a label for an input value, the naive Bayes classifier begins by calculating the prior probability of each label, which is determined by checking frequency of each label in the training set. The contribution from each feature is then combined with this prior probability, to arrive at a likelihood estimate for each label. The label whose likelihood estimate is the highest is then assigned to the input value. 5.1 illustrates this process.\"\n",
    "\n",
    "The site continues:\n",
    "\n",
    "\"Individual features make their contribution to the overall decision by \"voting against\" labels that don't occur with that feature very often. In particular, the likelihood score for each label is reduced by multiplying it by the probability that an input value with that label would have the feature.\""
   ]
  },
  {
   "cell_type": "code",
   "execution_count": 96,
   "metadata": {},
   "outputs": [],
   "source": [
    "# Create a function to return a new training and dev-test mix of the corpus for each iteration of the model\n",
    "def reslicer(corpus):\n",
    "    print(\"Reslicer returns 3 sliced, remixed set of corpora:\")\n",
    "    print(\"\\tThe first returned value is the remixed training corpus, length is variable\")\n",
    "    print(\"\\tThe second returned value is the remixed dev-test corpus, length is 500\")\n",
    "    print(\"\\tThe third returned value is the un-remixed test set, length is 500\\n\")\n",
    "    final_test_n = 500 # can be adjusted\n",
    "    dev_test_n = 500 # can be adjusted\n",
    "    \n",
    "    test_corpus = corpus[:final_test_n] #reserve first 500 for the final test\n",
    "    print(\"Test Corpus Sample: \", test_corpus[0:3], \", Length: \", len(test_corpus))\n",
    "    \n",
    "    dev_set = corpus[final_test_n:] #create a copy of the dev_set to preserve the original test set before shuffling\n",
    "    random.shuffle(dev_set) #remix before re-slicing\n",
    "    \n",
    "    dev_test_corpus = dev_set[:dev_test_n]\n",
    "    print(\"Dev-Test Corpus Sample: \",dev_test_corpus[0:3], \", Length: \", len(dev_test_corpus)) #should have length 500\n",
    "    \n",
    "    train_corpus = dev_set[dev_test_n:]\n",
    "    print(\"Training Corpus Sample: \",train_corpus[0:3], \", Length: \", len(train_corpus)) #should be longer\n",
    "\n",
    "    return train_corpus, dev_test_corpus, test_corpus\n"
   ]
  },
  {
   "cell_type": "code",
   "execution_count": 97,
   "metadata": {},
   "outputs": [
    {
     "name": "stdout",
     "output_type": "stream",
     "text": [
      "Reslicer returns 3 sliced, remixed set of corpora:\n",
      "\tThe first returned value is the remixed training corpus, length is variable\n",
      "\tThe second returned value is the remixed dev-test corpus, length is 500\n",
      "\tThe third returned value is the un-remixed test set, length is 500\n",
      "\n",
      "Test Corpus Sample:  [('Blayne', 'male'), ('Amabelle', 'female'), ('Wendel', 'male')] , Length:  500\n",
      "Dev-Test Corpus Sample:  [('Hazel', 'female'), ('Virgina', 'female'), ('Tudor', 'male')] , Length:  500\n",
      "Training Corpus Sample:  [('Alexia', 'female'), ('Isadora', 'female'), ('Hermine', 'female')] , Length:  6944\n"
     ]
    }
   ],
   "source": [
    "train_names, dev_names, test_names = reslicer(corpus)"
   ]
  },
  {
   "cell_type": "code",
   "execution_count": 98,
   "metadata": {},
   "outputs": [
    {
     "name": "stdout",
     "output_type": "stream",
     "text": [
      "Reslicer returns 3 sliced, remixed set of corpora:\n",
      "\tThe first returned value is the remixed training corpus, length is variable\n",
      "\tThe second returned value is the remixed dev-test corpus, length is 500\n",
      "\tThe third returned value is the un-remixed test set, length is 500\n",
      "\n",
      "Test Corpus Sample:  [('Blayne', 'male'), ('Amabelle', 'female'), ('Wendel', 'male')] , Length:  500\n",
      "Dev-Test Corpus Sample:  [('Rivkah', 'female'), ('Hanny', 'female'), ('Trev', 'male')] , Length:  500\n",
      "Training Corpus Sample:  [('Lenard', 'male'), ('Anatole', 'male'), ('Dyson', 'male')] , Length:  6944\n"
     ]
    }
   ],
   "source": [
    "#re-running the code will remix the training and dev-test sets, while leaving the original test names intact\n",
    "train_names, dev_names, test_names = reslicer(corpus)"
   ]
  },
  {
   "cell_type": "markdown",
   "metadata": {},
   "source": [
    "Because we will be changing the feature function each time, we can create a series of functions to process and classify the data to to minimize repeated code. "
   ]
  },
  {
   "cell_type": "code",
   "execution_count": 99,
   "metadata": {},
   "outputs": [],
   "source": [
    "# Define function to process the names through feature extractor\n",
    "def feature_ext(feature_func, corpus):\n",
    "    \n",
    "    #first, remix and reslice the data to ensure we are using a new mix of dev-test and training data each time\n",
    "    train_names, dev_names, test_names = reslicer(corpus)\n",
    "    \n",
    "    #then, extract features from the names slices\n",
    "    train_set = [(feature_func(n), gender) for (n, gender) in train_names]\n",
    "    devtest_set = [(feature_func(n), gender) for (n, gender) in dev_names]\n",
    "    test_set = [(feature_func(n), gender) for (n, gender) in test_names]\n",
    "    \n",
    "    return train_set, devtest_set, test_set"
   ]
  },
  {
   "cell_type": "code",
   "execution_count": 100,
   "metadata": {},
   "outputs": [],
   "source": [
    "def test_model(feature_func, corpus):\n",
    "    feature_func = feature_func #use feature function given as arg\n",
    "    corpus = corpus\n",
    "    \n",
    "    # Run the feature_ext function to create the necessary labeled feature sets\n",
    "    train_set, devtest_set, test_set = feature_ext(feature_func, corpus)\n",
    "    \n",
    "    # Train the naiveBayes classifier\n",
    "    classifier = nltk.NaiveBayesClassifier.train(train_set)\n",
    "\n",
    "    # Test the accuracy of the classifier on the dev data--this is so we can evaluate errors and make tweaks\n",
    "    a = round(nltk.classify.accuracy(classifier, devtest_set), 4)*100\n",
    "    accuracy = f'{a:.2f}'\n",
    "    print(\"\\n\")\n",
    "    print(\"Model is %s percent accurate\" % accuracy)\n",
    "    print(\"\\n\")\n",
    "    \n",
    "    # examine classifier to determine which last letter is most effective for predicting gender\n",
    "    print(classifier.show_most_informative_features(10))\n",
    "    \n",
    "    #find errors    \n",
    "    def find_errors(dev_names, feature_func):   \n",
    "        errors = {'name' : [], 'label' : [], 'guess' : [], 'features': [] }       \n",
    "        for (name, label) in dev_names:\n",
    "            guess = classifier.classify(feature_func(name))\n",
    "            features = feature_func(name)\n",
    "            if guess != label:\n",
    "                errors['name'].append(name)\n",
    "                errors['label'].append(label)\n",
    "                errors['guess'].append(guess)\n",
    "                errors['features'].append(features)\n",
    "        \n",
    "        errors = pd.DataFrame(errors)\n",
    "        \n",
    "        #create dataframe for bar plot\n",
    "        hister = pd.DataFrame(errors[['features','guess']])\n",
    "        hister = pd.DataFrame(hister['features'].tolist(), index=hister.index)\n",
    "        hister2 = pd.DataFrame(hister['last_letter'].value_counts())\n",
    "        hister2 = hister2.sort_values('last_letter',ascending=False)\n",
    "        hister2.reset_index(level=0, inplace=True)\n",
    "        \n",
    "        #plot bar plot of errors caused by last letter\n",
    "        hister2.plot('index','last_letter', kind='bar',figsize=(20,10), fontsize=14,title=\"Errors: Last 3 Letters\")\n",
    "        \n",
    "        #prints sample \n",
    "        print(\"\\nErrors\")\n",
    "        print(errors.sample(20))\n",
    "    \n",
    "    errors = find_errors(dev_names, feature_func)\n",
    "    \n",
    "    return classifier"
   ]
  },
  {
   "cell_type": "markdown",
   "metadata": {},
   "source": [
    "### Training on the last letter of the name\n",
    "\n",
    "Now that we have our functions set up, we can define some different feature extraction functions and test each one.\n",
    "\n",
    "First, we will test a model by examining only the last letter of each name. We will use ```nltk```'s built-in Naive Baysian Classifier to train the model based on this feature. "
   ]
  },
  {
   "cell_type": "code",
   "execution_count": 101,
   "metadata": {},
   "outputs": [],
   "source": [
    "def last_letter(word): #first feature function to test\n",
    "    return {\"last_letter\": word[-1]}"
   ]
  },
  {
   "cell_type": "code",
   "execution_count": 102,
   "metadata": {},
   "outputs": [
    {
     "name": "stdout",
     "output_type": "stream",
     "text": [
      "Reslicer returns 3 sliced, remixed set of corpora:\n",
      "\tThe first returned value is the remixed training corpus, length is variable\n",
      "\tThe second returned value is the remixed dev-test corpus, length is 500\n",
      "\tThe third returned value is the un-remixed test set, length is 500\n",
      "\n",
      "Test Corpus Sample:  [('Blayne', 'male'), ('Amabelle', 'female'), ('Wendel', 'male')] , Length:  500\n",
      "Dev-Test Corpus Sample:  [('Lucy', 'female'), ('Lotti', 'female'), ('Rochell', 'female')] , Length:  500\n",
      "Training Corpus Sample:  [('Waneta', 'female'), ('Lorry', 'female'), ('Vito', 'male')] , Length:  6944\n",
      "\n",
      "\n",
      "Model is 77.40 percent accurate\n",
      "\n",
      "\n",
      "Most Informative Features\n",
      "             last_letter = 'k'              male : female =     42.2 : 1.0\n",
      "             last_letter = 'a'            female : male   =     32.6 : 1.0\n",
      "             last_letter = 'p'              male : female =     15.2 : 1.0\n",
      "             last_letter = 'f'              male : female =     13.8 : 1.0\n",
      "             last_letter = 'm'              male : female =      9.5 : 1.0\n",
      "             last_letter = 'd'              male : female =      9.3 : 1.0\n",
      "             last_letter = 'v'              male : female =      9.1 : 1.0\n",
      "             last_letter = 'o'              male : female =      8.3 : 1.0\n",
      "             last_letter = 'r'              male : female =      6.7 : 1.0\n",
      "             last_letter = 'g'              male : female =      5.7 : 1.0\n",
      "None\n",
      "\n",
      "Errors\n",
      "         name   label   guess              features\n",
      "39      Grace    male  female  {'last_letter': 'e'}\n",
      "28      Daryn  female    male  {'last_letter': 'n'}\n",
      "61       Jody    male  female  {'last_letter': 'y'}\n",
      "108      Jude    male  female  {'last_letter': 'e'}\n",
      "101  Courtney    male  female  {'last_letter': 'y'}\n",
      "0       Danie    male  female  {'last_letter': 'e'}\n",
      "112      Zach    male  female  {'last_letter': 'h'}\n",
      "12     Carlie    male  female  {'last_letter': 'e'}\n",
      "15      Joyan  female    male  {'last_letter': 'n'}\n",
      "80    Cherlyn  female    male  {'last_letter': 'n'}\n",
      "13        Dew  female    male  {'last_letter': 'w'}\n",
      "29    Carleen  female    male  {'last_letter': 'n'}\n",
      "100   Christy    male  female  {'last_letter': 'y'}\n",
      "7     Kristel  female    male  {'last_letter': 'l'}\n",
      "43   Theodore    male  female  {'last_letter': 'e'}\n",
      "46      Yance    male  female  {'last_letter': 'e'}\n",
      "74     Gladis  female    male  {'last_letter': 's'}\n",
      "86     Maurie    male  female  {'last_letter': 'e'}\n",
      "50     Willie    male  female  {'last_letter': 'e'}\n",
      "85     Chriss  female    male  {'last_letter': 's'}\n"
     ]
    },
    {
     "data": {
      "text/plain": [
       "<nltk.classify.naivebayes.NaiveBayesClassifier at 0x16d77538e48>"
      ]
     },
     "execution_count": 102,
     "metadata": {},
     "output_type": "execute_result"
    },
    {
     "data": {
      "image/png": "[encoded data removed]",
      "text/plain": [
       "<Figure size 1440x720 with 1 Axes>"
      ]
     },
     "metadata": {
      "needs_background": "light"
     },
     "output_type": "display_data"
    }
   ],
   "source": [
    "test_model(last_letter, corpus)"
   ]
  },
  {
   "cell_type": "markdown",
   "metadata": {},
   "source": [
    "These are interesting results! Ending in `a` is the *only* letter in the top ten that predicts female names instead of male names.\n",
    "\n",
    "Names ending in \"e\" causes the most errors, followed by \"n\", \"y\", \"l\" and \"s\"."
   ]
  },
  {
   "cell_type": "markdown",
   "metadata": {},
   "source": [
    "### Training on the last 3 letters of the name"
   ]
  },
  {
   "cell_type": "markdown",
   "metadata": {},
   "source": [
    "Next, we try the last 3 letters. The function must be rewritten to adjust for the different variable names in the bar chart. "
   ]
  },
  {
   "cell_type": "code",
   "execution_count": 103,
   "metadata": {},
   "outputs": [],
   "source": [
    "def test_model(feature_func, corpus):\n",
    "    feature_func = feature_func #use feature function given as arg\n",
    "    corpus = corpus\n",
    "    \n",
    "    # Run the feature_ext function to create the necessary labeled feature sets\n",
    "    train_set, devtest_set, test_set = feature_ext(feature_func, corpus)\n",
    "    \n",
    "    # Train the naiveBayes classifier\n",
    "    classifier = nltk.NaiveBayesClassifier.train(train_set)\n",
    "\n",
    "    # Test the accuracy of the classifier on the dev data--this is so we can evaluate errors and make tweaks\n",
    "    a = round(nltk.classify.accuracy(classifier, devtest_set), 4)*100\n",
    "    accuracy = f'{a:.2f}'\n",
    "    print(\"\\n\")\n",
    "    print(\"Model is %s percent accurate\" % accuracy)\n",
    "    print(\"\\n\")\n",
    "    \n",
    "    # examine classifier to determine which last letter is most effective for predicting gender\n",
    "    print(classifier.show_most_informative_features(10))\n",
    "    \n",
    "    #find errors    \n",
    "    def find_errors(dev_names, feature_func):   \n",
    "        errors = {'name' : [], 'label' : [], 'guess' : [], 'features': [] }       \n",
    "        for (name, label) in dev_names:\n",
    "            guess = classifier.classify(feature_func(name))\n",
    "            features = feature_func(name)\n",
    "            if guess != label:\n",
    "                errors['name'].append(name)\n",
    "                errors['label'].append(label)\n",
    "                errors['guess'].append(guess)\n",
    "                errors['features'].append(features)\n",
    "        \n",
    "        errors = pd.DataFrame(errors)\n",
    "        \n",
    "        #create dataframe for bar plot\n",
    "        hister = pd.DataFrame(errors[['features','guess']])\n",
    "        hister = pd.DataFrame(hister['features'].tolist(), index=hister.index)\n",
    "\n",
    "        hister2 = pd.DataFrame(hister['last3letters'].value_counts())\n",
    "        hister2 = hister2.sort_values('last3letters',ascending=False)\n",
    "        \n",
    "        hister2.reset_index(level=0, inplace=True)\n",
    "        \n",
    "        #plot bar plot of errors caused by last letter\n",
    "        hister2.plot('index','last3letters', kind='bar',figsize=(20,10), fontsize=14,title=\"Errors: Last 3 Letters\")\n",
    "        \n",
    "        #prints sample \n",
    "        print(\"\\nErrors\")\n",
    "        print(errors.sample(20))\n",
    "    \n",
    "    errors = find_errors(dev_names, feature_func)\n",
    "    \n",
    "    return classifier"
   ]
  },
  {
   "cell_type": "code",
   "execution_count": 104,
   "metadata": {},
   "outputs": [
    {
     "name": "stdout",
     "output_type": "stream",
     "text": [
      "Reslicer returns 3 sliced, remixed set of corpora:\n",
      "\tThe first returned value is the remixed training corpus, length is variable\n",
      "\tThe second returned value is the remixed dev-test corpus, length is 500\n",
      "\tThe third returned value is the un-remixed test set, length is 500\n",
      "\n",
      "Test Corpus Sample:  [('Blayne', 'male'), ('Amabelle', 'female'), ('Wendel', 'male')] , Length:  500\n",
      "Dev-Test Corpus Sample:  [('Debor', 'female'), ('Ragnar', 'male'), ('Bridgett', 'female')] , Length:  500\n",
      "Training Corpus Sample:  [('Guillemette', 'female'), ('Justis', 'male'), ('Simon', 'male')] , Length:  6944\n",
      "\n",
      "\n",
      "Model is 74.60 percent accurate\n",
      "\n",
      "\n",
      "Most Informative Features\n",
      "            last3letters = 'ita'          female : male   =     24.5 : 1.0\n",
      "            last3letters = 'ana'          female : male   =     24.1 : 1.0\n",
      "            last3letters = 'tta'          female : male   =     23.2 : 1.0\n",
      "            last3letters = 'ard'            male : female =     21.3 : 1.0\n",
      "            last3letters = 'nne'          female : male   =     18.4 : 1.0\n",
      "            last3letters = 'vin'            male : female =     16.9 : 1.0\n",
      "            last3letters = 'son'            male : female =     15.1 : 1.0\n",
      "            last3letters = 'sie'          female : male   =     14.5 : 1.0\n",
      "            last3letters = 'old'            male : female =     13.8 : 1.0\n",
      "            last3letters = 'ela'          female : male   =     13.7 : 1.0\n",
      "None\n",
      "\n",
      "Errors\n",
      "        name   label   guess                 features\n",
      "37      Olin    male  female  {'last3letters': 'lin'}\n",
      "56   Krishna    male  female  {'last3letters': 'hna'}\n",
      "18    Sibley  female    male  {'last3letters': 'ley'}\n",
      "57   Giavani    male  female  {'last3letters': 'ani'}\n",
      "35    Andrea    male  female  {'last3letters': 'rea'}\n",
      "58  Dimitris    male  female  {'last3letters': 'ris'}\n",
      "2     Dwaine    male  female  {'last3letters': 'ine'}\n",
      "62     Marne  female    male  {'last3letters': 'rne'}\n",
      "11   Sharron  female    male  {'last3letters': 'ron'}\n",
      "41    Maurie    male  female  {'last3letters': 'rie'}\n",
      "9      Angie    male  female  {'last3letters': 'gie'}\n",
      "52       Del    male  female  {'last3letters': 'Del'}\n",
      "15     Angel  female    male  {'last3letters': 'gel'}\n",
      "40      Fran    male  female  {'last3letters': 'ran'}\n",
      "36     Grier  female    male  {'last3letters': 'ier'}\n",
      "31    Fonzie    male  female  {'last3letters': 'zie'}\n",
      "42       Jan    male  female  {'last3letters': 'Jan'}\n",
      "14   Hadrian    male  female  {'last3letters': 'ian'}\n",
      "29    Rodney    male  female  {'last3letters': 'ney'}\n",
      "49      Emmy    male  female  {'last3letters': 'mmy'}\n"
     ]
    },
    {
     "data": {
      "image/png": "[encoded data removed]",
      "text/plain": [
       "<Figure size 1440x720 with 1 Axes>"
      ]
     },
     "metadata": {
      "needs_background": "light"
     },
     "output_type": "display_data"
    }
   ],
   "source": [
    "def one_feature(word):\n",
    "    return {\"last3letters\": word[-3:]}  # feature set\n",
    "\n",
    "#note, we are automatically re-slicing the training/dev-test slices\n",
    "two_features_classifier = test_model(one_feature, corpus) "
   ]
  },
  {
   "cell_type": "markdown",
   "metadata": {},
   "source": [
    "Name endings such as \"die\", \"nny\", and \"ice\" provided the biggest obstacles for accuracy, with \"bby\", \"bin\", \"lis\", \"ren\", \"tty\" complicating the predictions almost as often. It is notable that all of these errors occurred less than 6 times. This comports with the errors in the last model; each of the most problematic endings have \"e\" as their last letter."
   ]
  },
  {
   "cell_type": "markdown",
   "metadata": {},
   "source": [
    "### Training on the last 3 letters and the last letter\n",
    "\n",
    "Next we try a combination of the last three letters as well as the last letter. Again we will adjust the function so that the bar plot will plot errors correctly."
   ]
  },
  {
   "cell_type": "code",
   "execution_count": 105,
   "metadata": {},
   "outputs": [],
   "source": [
    "def test_model(feature_func, corpus):\n",
    "    feature_func = feature_func #use feature function given as arg\n",
    "    corpus = corpus\n",
    "    \n",
    "    # Run the feature_ext function to create the necessary labeled feature sets\n",
    "    train_set, devtest_set, test_set = feature_ext(feature_func, corpus)\n",
    "    \n",
    "    # Train the naiveBayes classifier\n",
    "    classifier = nltk.NaiveBayesClassifier.train(train_set)\n",
    "\n",
    "    # Test the accuracy of the classifier on the dev data--this is so we can evaluate errors and make tweaks\n",
    "    a = round(nltk.classify.accuracy(classifier, devtest_set), 4)*100\n",
    "    accuracy = f'{a:.2f}'\n",
    "    print(\"\\n\")\n",
    "    print(\"Model is %s percent accurate\" % accuracy)\n",
    "    print(\"\\n\")\n",
    "    \n",
    "    # examine classifier to determine which last letter is most effective for predicting gender\n",
    "    print(classifier.show_most_informative_features(10))\n",
    "    \n",
    "    #find errors    \n",
    "    def find_errors(dev_names, feature_func):   \n",
    "        errors = {'name' : [], 'label' : [], 'guess' : [], 'features': [] }       \n",
    "        for (name, label) in dev_names:\n",
    "            guess = classifier.classify(feature_func(name))\n",
    "            features = feature_func(name)\n",
    "            if guess != label:\n",
    "                errors['name'].append(name)\n",
    "                errors['label'].append(label)\n",
    "                errors['guess'].append(guess)\n",
    "                errors['features'].append(features)\n",
    "        \n",
    "        errors = pd.DataFrame(errors)\n",
    "        \n",
    "        #create dataframe for bar plot\n",
    "        hister = pd.DataFrame(errors[['features','guess']])\n",
    "        hister = pd.DataFrame(hister['features'].tolist(), index=hister.index)\n",
    "\n",
    "        hister2 = pd.DataFrame(hister['last3letters'].value_counts())\n",
    "        hister3 = pd.DataFrame(hister['last_letter'].value_counts())\n",
    "        \n",
    "        print(hister2.head())\n",
    "        print(hister3.head())\n",
    "        \n",
    "        hister2.reset_index(level=0, inplace=True)\n",
    "        hister3.reset_index(level=0, inplace=True)\n",
    "        hister2['feature'] = hister2['last3letters']\n",
    "        hister3['feature'] = hister3['last_letter']\n",
    "        \n",
    "        frames = [hister2,hister3]\n",
    "        result = pd.concat(frames,sort=True)\n",
    "        result = result.sort_values('feature',ascending=False)\n",
    "        \n",
    "        #plot bar plot of errors caused by last letter\n",
    "        result.plot('index','feature', kind='bar',figsize=(20,10), fontsize=14,title=\"Errors: Last 3 Letters and Last Letter\")\n",
    "        \n",
    "        #prints sample \n",
    "        print(\"\\nErrors\")\n",
    "        print(errors.sample(20))\n",
    "    \n",
    "    errors = find_errors(dev_names, feature_func)\n",
    "    \n",
    "    return classifier"
   ]
  },
  {
   "cell_type": "code",
   "execution_count": 106,
   "metadata": {},
   "outputs": [
    {
     "name": "stdout",
     "output_type": "stream",
     "text": [
      "Reslicer returns 3 sliced, remixed set of corpora:\n",
      "\tThe first returned value is the remixed training corpus, length is variable\n",
      "\tThe second returned value is the remixed dev-test corpus, length is 500\n",
      "\tThe third returned value is the un-remixed test set, length is 500\n",
      "\n",
      "Test Corpus Sample:  [('Blayne', 'male'), ('Amabelle', 'female'), ('Wendel', 'male')] , Length:  500\n",
      "Dev-Test Corpus Sample:  [('Kathlene', 'female'), ('Shelly', 'female'), ('Paola', 'female')] , Length:  500\n",
      "Training Corpus Sample:  [('Alyse', 'female'), ('Pier', 'female'), ('Wynny', 'female')] , Length:  6944\n",
      "\n",
      "\n",
      "Model is 78.00 percent accurate\n",
      "\n",
      "\n",
      "Most Informative Features\n",
      "             last_letter = 'k'              male : female =     33.5 : 1.0\n",
      "             last_letter = 'a'            female : male   =     33.4 : 1.0\n",
      "            last3letters = 'tta'          female : male   =     23.8 : 1.0\n",
      "            last3letters = 'ana'          female : male   =     22.5 : 1.0\n",
      "            last3letters = 'ard'            male : female =     20.7 : 1.0\n",
      "            last3letters = 'lyn'          female : male   =     20.3 : 1.0\n",
      "             last_letter = 'p'              male : female =     18.8 : 1.0\n",
      "            last3letters = 'nne'          female : male   =     17.9 : 1.0\n",
      "            last3letters = 'ita'          female : male   =     15.5 : 1.0\n",
      "             last_letter = 'f'              male : female =     14.7 : 1.0\n",
      "None\n",
      "     last3letters\n",
      "lie             4\n",
      "nie             2\n",
      "ani             2\n",
      "iss             2\n",
      "ace             2\n",
      "   last_letter\n",
      "e           21\n",
      "n           15\n",
      "y           11\n",
      "l            6\n",
      "s            4\n",
      "\n",
      "Errors\n",
      "        name   label   guess                                     features\n",
      "15     Brett  female    male  {'last_letter': 't', 'last3letters': 'ett'}\n",
      "45   Raynell  female    male  {'last_letter': 'l', 'last3letters': 'ell'}\n",
      "61   Maurise    male  female  {'last_letter': 'e', 'last3letters': 'ise'}\n",
      "68  Courtney    male  female  {'last_letter': 'y', 'last3letters': 'ney'}\n",
      "7        Dew  female    male  {'last_letter': 'w', 'last3letters': 'Dew'}\n",
      "16    Martyn    male  female  {'last_letter': 'n', 'last3letters': 'tyn'}\n",
      "31   Scarlet  female    male  {'last_letter': 't', 'last3letters': 'let'}\n",
      "40    Rodney    male  female  {'last_letter': 'y', 'last3letters': 'ney'}\n",
      "62    Tallie    male  female  {'last_letter': 'e', 'last3letters': 'lie'}\n",
      "41    Fonzie    male  female  {'last_letter': 'e', 'last3letters': 'zie'}\n",
      "29     Aimil  female    male  {'last_letter': 'l', 'last3letters': 'mil'}\n",
      "32    Willie    male  female  {'last_letter': 'e', 'last3letters': 'lie'}\n",
      "14      Gwen  female    male  {'last_letter': 'n', 'last3letters': 'wen'}\n",
      "28  Boniface    male  female  {'last_letter': 'e', 'last3letters': 'ace'}\n",
      "23     Grace    male  female  {'last_letter': 'e', 'last3letters': 'ace'}\n",
      "76     Boyce    male  female  {'last_letter': 'e', 'last3letters': 'yce'}\n",
      "21   Quentin  female    male  {'last_letter': 'n', 'last3letters': 'tin'}\n",
      "37       Dot  female    male  {'last_letter': 't', 'last3letters': 'Dot'}\n",
      "22    Connie    male  female  {'last_letter': 'e', 'last3letters': 'nie'}\n",
      "47     Manon  female    male  {'last_letter': 'n', 'last3letters': 'non'}\n"
     ]
    },
    {
     "data": {
      "image/png": "[encoded data removed]",
      "text/plain": [
       "<Figure size 1440x720 with 1 Axes>"
      ]
     },
     "metadata": {
      "needs_background": "light"
     },
     "output_type": "display_data"
    }
   ],
   "source": [
    "def two_features(word):\n",
    "    return {\"last_letter\": word[-1], \"last3letters\": word[-3:]}  # feature set\n",
    "\n",
    "#note, we are automatically re-slicing the training/dev-test slices\n",
    "two_features_classifier = test_model(two_features, corpus) "
   ]
  },
  {
   "cell_type": "markdown",
   "metadata": {},
   "source": [
    "Adding the last three letters increased our accuracy by about 5 percentage points!\n",
    "\n",
    "It appears that names ending with the letter \"e\" are the most problematic, followed by \"n\", \"y\" and \"l\", just as when the model was run analyzing the last letter of the name exclusively. Similarly the 3-letter endings provide a similar error distribution."
   ]
  },
  {
   "cell_type": "markdown",
   "metadata": {},
   "source": [
    "# Maybe can cut this section -- or use for more error analysis?\n",
    "\n",
    "I think besides data viz, the main thing we are missing here is error analysis leading to new feature extractions, e.g. because it missed  \"Tracy\" we will try...\n",
    "\n",
    "An additional analysis we could do would be to extract names like \"Tracy\", \"Laurie\", \"Leslie\" that appear in *both* the male and female lists--there aren't really being coded \"incorrectly\" but they will count as errors."
   ]
  },
  {
   "cell_type": "markdown",
   "metadata": {},
   "source": [
    "   ### Analysis of name parts\n",
    "   \n",
    "Next, let's take a look at whether the presence or absence of any letters or consecutive groups of letters can tell us anything about the names by doing an analysis.\n",
    "\n",
    "First, we create a function that returns all the combinations consecutive letters in a name, except the name itself. So, for example, in the name, \"Noah\", it returns the list:\n",
    "```['N', 'No', 'Noa', 'o', 'oa', 'oah', 'a', 'ah', 'h']```"
   ]
  },
  {
   "cell_type": "code",
   "execution_count": 107,
   "metadata": {},
   "outputs": [
    {
     "name": "stdout",
     "output_type": "stream",
     "text": [
      "['N' 'No' 'Noa' 'Noah' 'o' 'oa' 'oah' 'a' 'ah' 'h']\n"
     ]
    }
   ],
   "source": [
    "import numpy as np\n",
    "def name_parts(name):\n",
    "    i = 0\n",
    "    letters = ''\n",
    "    parts = []\n",
    "    ans = ''\n",
    "    for letter in name:\n",
    "        next_part = name[i:]\n",
    "        for letter in next_part:\n",
    "            letters += letter\n",
    "            parts.append(letters)\n",
    "            i+=0\n",
    "        letters=''\n",
    "        i += 1\n",
    "    return np.asarray(parts)\n",
    "print(name_parts(\"Noah\"))"
   ]
  },
  {
   "cell_type": "code",
   "execution_count": 108,
   "metadata": {},
   "outputs": [],
   "source": [
    "def parts_set(labeled_names):\n",
    "    parts_set = []\n",
    "    for name, label in labeled_names:\n",
    "        features_list = name_parts(name)\n",
    "        #print(features_list)\n",
    "        parts_list = [(item, label) for item in features_list]\n",
    "        #print(parts_list)\n",
    "        parts_set += parts_list\n",
    "        #print(parts_set)\n",
    "    return parts_set"
   ]
  },
  {
   "cell_type": "markdown",
   "metadata": {},
   "source": [
    "## Add data viz here?"
   ]
  },
  {
   "cell_type": "code",
   "execution_count": 109,
   "metadata": {},
   "outputs": [
    {
     "name": "stdout",
     "output_type": "stream",
     "text": [
      "Reslicer returns 3 sliced, remixed set of corpora:\n",
      "\tThe first returned value is the remixed training corpus, length is variable\n",
      "\tThe second returned value is the remixed dev-test corpus, length is 500\n",
      "\tThe third returned value is the un-remixed test set, length is 500\n",
      "\n",
      "Test Corpus Sample:  [('Blayne', 'male'), ('Amabelle', 'female'), ('Wendel', 'male')] , Length:  500\n",
      "Dev-Test Corpus Sample:  [('Cliff', 'male'), ('Vasilis', 'male'), ('Kristine', 'female')] , Length:  500\n",
      "Training Corpus Sample:  [('Natasha', 'female'), ('Gerrit', 'male'), ('Moore', 'male')] , Length:  6944\n"
     ]
    }
   ],
   "source": [
    "train_names, dev_names, test_names = reslicer(corpus)\n",
    "train_set2 = parts_set(train_names)\n",
    "dev_set2 = parts_set(dev_names)"
   ]
  },
  {
   "cell_type": "code",
   "execution_count": 110,
   "metadata": {},
   "outputs": [
    {
     "ename": "AttributeError",
     "evalue": "'numpy.str_' object has no attribute 'items'",
     "output_type": "error",
     "traceback": [
      "\u001b[1;31m---------------------------------------------------------------------------\u001b[0m",
      "\u001b[1;31mAttributeError\u001b[0m                            Traceback (most recent call last)",
      "\u001b[1;32m<ipython-input-110-5cc617be54f6>\u001b[0m in \u001b[0;36m<module>\u001b[1;34m\u001b[0m\n\u001b[0;32m      1\u001b[0m \u001b[1;31m# Train the naiveBayes classifier\u001b[0m\u001b[1;33m\u001b[0m\u001b[1;33m\u001b[0m\u001b[1;33m\u001b[0m\u001b[0m\n\u001b[1;32m----> 2\u001b[1;33m \u001b[0mclassifier2\u001b[0m \u001b[1;33m=\u001b[0m \u001b[0mnltk\u001b[0m\u001b[1;33m.\u001b[0m\u001b[0mNaiveBayesClassifier\u001b[0m\u001b[1;33m.\u001b[0m\u001b[0mtrain\u001b[0m\u001b[1;33m(\u001b[0m\u001b[0mtrain_set2\u001b[0m\u001b[1;33m)\u001b[0m\u001b[1;33m\u001b[0m\u001b[1;33m\u001b[0m\u001b[0m\n\u001b[0m",
      "\u001b[1;32mC:\\ProgramData\\Anaconda3\\lib\\site-packages\\nltk\\classify\\naivebayes.py\u001b[0m in \u001b[0;36mtrain\u001b[1;34m(cls, labeled_featuresets, estimator)\u001b[0m\n\u001b[0;32m    206\u001b[0m         \u001b[1;32mfor\u001b[0m \u001b[0mfeatureset\u001b[0m\u001b[1;33m,\u001b[0m \u001b[0mlabel\u001b[0m \u001b[1;32min\u001b[0m \u001b[0mlabeled_featuresets\u001b[0m\u001b[1;33m:\u001b[0m\u001b[1;33m\u001b[0m\u001b[1;33m\u001b[0m\u001b[0m\n\u001b[0;32m    207\u001b[0m             \u001b[0mlabel_freqdist\u001b[0m\u001b[1;33m[\u001b[0m\u001b[0mlabel\u001b[0m\u001b[1;33m]\u001b[0m \u001b[1;33m+=\u001b[0m \u001b[1;36m1\u001b[0m\u001b[1;33m\u001b[0m\u001b[1;33m\u001b[0m\u001b[0m\n\u001b[1;32m--> 208\u001b[1;33m             \u001b[1;32mfor\u001b[0m \u001b[0mfname\u001b[0m\u001b[1;33m,\u001b[0m \u001b[0mfval\u001b[0m \u001b[1;32min\u001b[0m \u001b[0mfeatureset\u001b[0m\u001b[1;33m.\u001b[0m\u001b[0mitems\u001b[0m\u001b[1;33m(\u001b[0m\u001b[1;33m)\u001b[0m\u001b[1;33m:\u001b[0m\u001b[1;33m\u001b[0m\u001b[1;33m\u001b[0m\u001b[0m\n\u001b[0m\u001b[0;32m    209\u001b[0m                 \u001b[1;31m# Increment freq(fval|label, fname)\u001b[0m\u001b[1;33m\u001b[0m\u001b[1;33m\u001b[0m\u001b[1;33m\u001b[0m\u001b[0m\n\u001b[0;32m    210\u001b[0m                 \u001b[0mfeature_freqdist\u001b[0m\u001b[1;33m[\u001b[0m\u001b[0mlabel\u001b[0m\u001b[1;33m,\u001b[0m \u001b[0mfname\u001b[0m\u001b[1;33m]\u001b[0m\u001b[1;33m[\u001b[0m\u001b[0mfval\u001b[0m\u001b[1;33m]\u001b[0m \u001b[1;33m+=\u001b[0m \u001b[1;36m1\u001b[0m\u001b[1;33m\u001b[0m\u001b[1;33m\u001b[0m\u001b[0m\n",
      "\u001b[1;31mAttributeError\u001b[0m: 'numpy.str_' object has no attribute 'items'"
     ]
    }
   ],
   "source": [
    "# Train the naiveBayes classifier\n",
    "classifier2 = nltk.NaiveBayesClassifier.train(train_set2)"
   ]
  },
  {
   "cell_type": "code",
   "execution_count": null,
   "metadata": {},
   "outputs": [],
   "source": [
    "a = round(nltk.classify.accuracy(classifier2, dev_set2), 4)*100\n",
    "accuracy = f'{a:.2f}'\n",
    "print(\"\\n\")\n",
    "print(\"Model is %s percent accurate\" % accuracy)\n",
    "print(\"\\n\")\n",
    "\n",
    "# examine classifier to determine which feature is most effective for predicting the name's gender\n",
    "print(classifier2.show_most_informative_features(30))"
   ]
  },
  {
   "cell_type": "markdown",
   "metadata": {},
   "source": [
    "This actually made it worse! Maybe we can combine some of these most important features with our previous model to close the gap even further."
   ]
  },
  {
   "cell_type": "code",
   "execution_count": null,
   "metadata": {},
   "outputs": [],
   "source": [
    "#features with a greater than 15:1 predictive value\n",
    "high_val_features = ['nna', 'tte', 'rv', 'hu', 'anna', 'bel', 'etta', 'ton', 'iu', 'son', 'Ros', 'ita', 'ina']\n",
    "\n",
    "def combo_features(name):\n",
    "    feature_set = {\"last_letter\": name[-1], \"last3letters\": name[-3:], 'high_val_features': ''}\n",
    "    parts = name_parts(name)\n",
    "    for feature in high_val_features:\n",
    "        if feature in parts:\n",
    "                feature_set.update({'high_val_features' : feature})\n",
    "                break\n",
    "    return feature_set\n",
    "\n",
    "print(combo_features(\"BO\"))\n",
    "print(combo_features(\"Henrietta\"))\n",
    "print(combo_features(\"Rosita\"))"
   ]
  },
  {
   "cell_type": "code",
   "execution_count": null,
   "metadata": {},
   "outputs": [],
   "source": [
    "#test model using new feature extractor\n",
    "combo_classifier = test_model(combo_features, corpus)"
   ]
  },
  {
   "cell_type": "markdown",
   "metadata": {},
   "source": [
    "This last bit didn't help much. Still, it's roughly as good as the two_features, so let's go ahead and test both and the on the test set."
   ]
  },
  {
   "cell_type": "markdown",
   "metadata": {},
   "source": [
    "### THIS PART IS NOT WORKING--NEED TO TEST THE MODELS ON THE TEST SET### \n",
    "train_set, dev_set, test_set = reslicer(corpus)\n",
    "\n",
    "def final_test(classifier, test_set):\n",
    "    # Test the accuracy of the classifier on the dev data--this is so we can evaluate errors and make tweaks\n",
    "    a = round(nltk.classify.accuracy(classifier, test_set), 4)*100\n",
    "    accuracy = f'{a:.2f}'\n",
    "    print(\"\\n\")\n",
    "    print(\"Model is %s percent accurate\" % accuracy)\n",
    "    print(\"\\n\")\n",
    "    \n",
    "\n",
    "final_test(two_features_classifier, test_set)\n",
    "final_test(combo_classifier, test_set)"
   ]
  },
  {
   "cell_type": "markdown",
   "metadata": {},
   "source": [
    "## Conclusion\n",
    "\n",
    "In conclusion, the final test does not produce identical results when run on the test set (or even re-run on the development set). This should not be surprising because the model is making a prediction based on patterns that are not necessarily hard and fast rules. \n",
    "\n",
    "In addition, the corpus includes unisex names.\n",
    "\n",
    "An interesting project for further study would be to add weights to the names based on the number of people who have each name so that more common names more heavily tilt the model. While this might not produce a more accurate result looking at a list of names, it should be more accurate when dealing with new, real-world data."
   ]
  }
 ],
 "metadata": {
  "kernelspec": {
   "display_name": "Python 3",
   "language": "python",
   "name": "python3"
  },
  "language_info": {
   "codemirror_mode": {
    "name": "ipython",
    "version": 3
   },
   "file_extension": ".py",
   "mimetype": "text/x-python",
   "name": "python",
   "nbconvert_exporter": "python",
   "pygments_lexer": "ipython3",
   "version": "3.7.3"
  },
  "toc": {
   "base_numbering": 1,
   "nav_menu": {},
   "number_sections": false,
   "sideBar": true,
   "skip_h1_title": false,
   "title_cell": "Table of Contents",
   "title_sidebar": "Contents",
   "toc_cell": false,
   "toc_position": {},
   "toc_section_display": true,
   "toc_window_display": false
  }
 },
 "nbformat": 4,
 "nbformat_minor": 2
}
