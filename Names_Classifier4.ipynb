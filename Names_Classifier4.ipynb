{
 "cells": [
  {
   "cell_type": "markdown",
   "metadata": {},
   "source": [
    "# Data 620, Project 3\n",
    "July 10, 2019 \n",
    "Team 6: Alice Friedman, Scott Jones, Jeff Littlejohn, and Jun Pan\n",
    "\n",
    "## Assignment Description\n",
    "Using any of the three classifiers described in chapter 6 of Natural Language Processing with Python, and any features you can think of, build the best name gender classifier you can. Begin by splitting the Names Corpus into three subsets: 500 words for the test set, 500 words for the devtest set, and the remaining 6900 words for the training set. Then, starting with the example name gender classifier, make incremental improvements. Use the dev-test set to check your progress. Once you are satisfied with your classifier, check its final performance on the test set. How does the performance on the test set compare to the performance on the dev-test set? Is this what you'd expect?\n",
    "\n",
    "Source: Natural Language Processing with Python, exercise 6.10.2.\n",
    "\n",
    "### Text Classification: Identifying Gender from the ```NLTK``` Names Corpus  \n",
    "\n",
    "Adapted from:\n",
    "\n",
    "- [GitHub, Vinovator](https://gist.github.com/vinovator/6e5bf1e1bc61687a1e809780c30d6bf6)\n",
    "\n",
    "- [Geeks for Geeks: Python Gender Identification by Name](https://www.geeksforgeeks.org/python-gender-identification-by-name-using-nltk/)\n",
    "\n",
    "\n",
    "First, we import the names corpus from the ```nltk``` list of corpuses, and create three sets of names. "
   ]
  },
  {
   "cell_type": "code",
   "execution_count": 1,
   "metadata": {},
   "outputs": [],
   "source": [
    "import nltk\n",
    "from nltk.corpus import names\n",
    "import random\n",
    "import pandas as pd\n",
    "import numpy as np\n",
    "import matplotlib.pyplot as plt"
   ]
  },
  {
   "cell_type": "code",
   "execution_count": 2,
   "metadata": {},
   "outputs": [
    {
     "name": "stdout",
     "output_type": "stream",
     "text": [
      "[('Martyn', 'male'), ('Herby', 'male'), ('Dewey', 'male'), ('Gere', 'male'), ('Penn', 'male')] 2943\n",
      "[('Adena', 'female'), ('Myrilla', 'female'), ('Genvieve', 'female'), ('Gusella', 'female'), ('Rosalinde', 'female')] 5001\n",
      "[('Hannis', 'female'), ('Lawerence', 'male'), ('Elga', 'female'), ('Alysia', 'female'), ('Vi', 'female')] 7944\n"
     ]
    }
   ],
   "source": [
    "mcorpus = [(name, \"male\") for name in names.words(\"male.txt\")]\n",
    "fcorpus = [(name, \"female\") for name in names.words(\"female.txt\")]\n",
    "random.shuffle(mcorpus); random.shuffle(fcorpus)\n",
    "print(mcorpus[0:5],len(mcorpus))\n",
    "print(fcorpus[0:5],len(fcorpus))\n",
    "\n",
    "corpus = mcorpus + fcorpus\n",
    "random.shuffle(corpus)\n",
    "print(corpus[:5], len(corpus))"
   ]
  },
  {
   "cell_type": "markdown",
   "metadata": {},
   "source": [
    "There are 2,943 names classified as male, 5,001 names classified as female, and 7,944 names total."
   ]
  },
  {
   "cell_type": "markdown",
   "metadata": {},
   "source": [
    "Next, we will subdivide the shuffled names corpus as follows:\n",
    "\n",
    "- A training set, used to train the model based on our selected features\n",
    "\n",
    "- A development test (dev-test) set, which we will use to test progress on the gender identifier and perform error analysis\n",
    "\n",
    "- A final \"test\" set, which we will use to test how well our predictions ultimately worked\n",
    "\n",
    "In order to avoid overfitting the data, we will remix the training and dev-test with each new feature extraction model. To prevent a lot of re-coding, we can write a function to remix the development-training corpus, after setting aside the first 500 male and female names as the final test slice."
   ]
  },
  {
   "cell_type": "code",
   "execution_count": 3,
   "metadata": {},
   "outputs": [],
   "source": [
    "# Create a function to return a new training and dev-test mix of the corpus for each iteration of the model\n",
    "def reslicer(corpus):\n",
    "    \n",
    "    #prints message to explain output\n",
    "    print(\"Reslicer returns 3 sliced, remixed set of corpuses:\")\n",
    "    print(\"\\tThe first returned value is the remixed training corpus, length is variable\")\n",
    "    print(\"\\tThe second returned value is the remixed dev-test corpus, length is 500\")\n",
    "    print(\"\\tThe third returned value is the un-remixed test set, length is 500\\n\")\n",
    "    \n",
    "    final_test_n = 500 # per assignment instructions\n",
    "    dev_test_n = 500 # per assignment instructions\n",
    "    \n",
    "    #reserve first 500 for the final test    \n",
    "    test_corpus = corpus[:final_test_n] \n",
    "    \n",
    "    #create a copy of the dev_set to preserve the original test set before shuffling\n",
    "    dev_set = corpus[final_test_n:] \n",
    "    random.shuffle(dev_set) #remix before re-slicing\n",
    "    \n",
    "    #re-cut re-shuffled development set into dev-test set (len 500) and training set (remainder)\n",
    "    dev_test_corpus = dev_set[:dev_test_n]\n",
    "    train_corpus = dev_set[dev_test_n:]\n",
    "    \n",
    "    #prints sample of sets\n",
    "    print(\"Training Corpus Sample: \",train_corpus[0:3], \", Length: \", len(train_corpus)) #should be longer\n",
    "    print(\"Dev-Test Corpus Sample: \",dev_test_corpus[0:3], \", Length: \", len(dev_test_corpus)) #should have length 500\n",
    "    print(\"Test Corpus Sample: \", test_corpus[0:3], \", Length: \", len(test_corpus))\n",
    "    \n",
    "    return train_corpus, dev_test_corpus, test_corpus\n"
   ]
  },
  {
   "cell_type": "markdown",
   "metadata": {},
   "source": [
    "Here is ```reslicer``` in action. Note that each call of this function will create a *new* mix of training and development-testing data, while the \"test_names\" will be the same."
   ]
  },
  {
   "cell_type": "code",
   "execution_count": 4,
   "metadata": {},
   "outputs": [
    {
     "name": "stdout",
     "output_type": "stream",
     "text": [
      "Reslicer returns 3 sliced, remixed set of corpuses:\n",
      "\tThe first returned value is the remixed training corpus, length is variable\n",
      "\tThe second returned value is the remixed dev-test corpus, length is 500\n",
      "\tThe third returned value is the un-remixed test set, length is 500\n",
      "\n",
      "Training Corpus Sample:  [('Jeniffer', 'female'), ('Nita', 'female'), ('Noelani', 'female')] , Length:  6944\n",
      "Dev-Test Corpus Sample:  [('Garp', 'male'), ('Sonja', 'female'), ('Ashton', 'male')] , Length:  500\n",
      "Test Corpus Sample:  [('Hannis', 'female'), ('Lawerence', 'male'), ('Elga', 'female')] , Length:  500\n"
     ]
    }
   ],
   "source": [
    "train_names, dev_names, test_names = reslicer(corpus)"
   ]
  },
  {
   "cell_type": "markdown",
   "metadata": {},
   "source": [
    "## Model Development\n",
    "\n",
    "To develop our model, first, we will combine the ```reslicer``` function with a feature extractor function, ```feature_ext```, to generate labeled data with features.\n",
    "\n",
    "Then we will develop a series of feature functions (used as the ```feature_func``` arg in the ```feature_ext``` function) to test the predictive value of various features using NLTK's built-in naive Bayes classifiers.\n",
    "\n",
    "A little info on naive Bayes classifiers from [Natural Language Processing with Python, Chapter 6](https://www.nltk.org/book/ch06.html):  \n",
    "\n",
    "\"In naive Bayes classifiers, every feature gets a say in determining which label should be assigned to a given input value. To choose a label for an input value, the naive Bayes classifier begins by calculating the prior probability of each label, which is determined by checking frequency of each label in the training set. The contribution from each feature is then combined with this prior probability, to arrive at a likelihood estimate for each label.\"\n",
    "\n",
    "\"Individual features make their contribution to the overall decision by \"voting against\" labels that don't occur with that feature very often. In particular, the likelihood score for each label is reduced by multiplying it by the probability that an input value with that label would have the feature.\""
   ]
  },
  {
   "cell_type": "code",
   "execution_count": 5,
   "metadata": {},
   "outputs": [],
   "source": [
    "# Define function to process the names through feature extractor\n",
    "def feature_ext(feature_func, corpus):\n",
    "    \n",
    "    #first, remix and reslice the data to ensure we are using a new mix of dev-test and training data each time\n",
    "    train_names, dev_names, test_names = reslicer(corpus)\n",
    "    \n",
    "    #then, extract features from the names slices\n",
    "    train_set = [(feature_func(n), gender) for (n, gender) in train_names]\n",
    "    devtest_set = [(feature_func(n), gender) for (n, gender) in dev_names]\n",
    "\n",
    "    \n",
    "    return train_set, devtest_set"
   ]
  },
  {
   "cell_type": "markdown",
   "metadata": {},
   "source": [
    "A ```find_errors``` function and a ```test_model``` function will combine all of the above to provide feedback on the feature extraction method selected to develop a model."
   ]
  },
  {
   "cell_type": "code",
   "execution_count": 6,
   "metadata": {},
   "outputs": [],
   "source": [
    "def find_errors(feature_func, classifier):\n",
    "    errors = {'name' : [], 'label' : [], 'guess' : [], 'features': [] }\n",
    "    for (name, label) in dev_names:\n",
    "            guess = classifier.classify(feature_func(name))\n",
    "            features = feature_func(name)\n",
    "            \n",
    "            if guess != label:\n",
    "                errors['name'].append(name)\n",
    "                errors['label'].append(label)\n",
    "                errors['guess'].append(guess)\n",
    "                errors['features'].append(features)\n",
    "        \n",
    "    errors = pd.DataFrame(errors)\n",
    "        \n",
    "    # Prints sample of errors\n",
    "    print(\"\\nErrors\")\n",
    "    print(errors.sample(20))\n",
    "    \n",
    "    return errors"
   ]
  },
  {
   "cell_type": "code",
   "execution_count": 7,
   "metadata": {},
   "outputs": [],
   "source": [
    "def test_model(feature_func, corpus):\n",
    "    \n",
    "    # Run the feature_ext function to create the necessary labeled feature sets\n",
    "    train_set, devtest_set = feature_ext(feature_func, corpus)\n",
    "    \n",
    "    # Train on the training set using the naiveBayes classifier built in to nltk\n",
    "    classifier = nltk.NaiveBayesClassifier.train(train_set)\n",
    "\n",
    "    # Test the accuracy of the classifier on the dev data--this is so we can evaluate errors and make tweaks\n",
    "    a = round(nltk.classify.accuracy(classifier, devtest_set), 4)*100\n",
    "    \n",
    "    # Format results as a 2 digit decimal\n",
    "    accuracy = f'{a:.2f}'\n",
    "    \n",
    "    # Print message with results\n",
    "    print(\"\\n\")\n",
    "    print(\"Model is %s percent accurate\" % accuracy)\n",
    "    print(\"\\n\")\n",
    "    \n",
    "    # Examine classifier to determine which last letter is most effective for predicting gender\n",
    "    print(classifier.show_most_informative_features(10))\n",
    "    \n",
    "    return classifier"
   ]
  },
  {
   "cell_type": "markdown",
   "metadata": {},
   "source": [
    "### Training on the last letter of the name\n",
    "\n",
    "Now that we have our functions set up, we can use them to test different feature extraction functions, starting with the last letter. "
   ]
  },
  {
   "cell_type": "code",
   "execution_count": 8,
   "metadata": {},
   "outputs": [],
   "source": [
    "def last_letter(name): #first feature extraction function to test\n",
    "    \n",
    "    return {\"last_letter\": name[-1]}"
   ]
  },
  {
   "cell_type": "code",
   "execution_count": 9,
   "metadata": {},
   "outputs": [
    {
     "name": "stdout",
     "output_type": "stream",
     "text": [
      "Reslicer returns 3 sliced, remixed set of corpuses:\n",
      "\tThe first returned value is the remixed training corpus, length is variable\n",
      "\tThe second returned value is the remixed dev-test corpus, length is 500\n",
      "\tThe third returned value is the un-remixed test set, length is 500\n",
      "\n",
      "Training Corpus Sample:  [('Ashlen', 'female'), ('Charlena', 'female'), ('Kendrick', 'male')] , Length:  6944\n",
      "Dev-Test Corpus Sample:  [('Lurette', 'female'), ('Winnifred', 'female'), ('Rebe', 'female')] , Length:  500\n",
      "Test Corpus Sample:  [('Hannis', 'female'), ('Lawerence', 'male'), ('Elga', 'female')] , Length:  500\n",
      "\n",
      "\n",
      "Model is 78.00 percent accurate\n",
      "\n",
      "\n",
      "Most Informative Features\n",
      "             last_letter = 'a'            female : male   =     34.6 : 1.0\n",
      "             last_letter = 'k'              male : female =     31.7 : 1.0\n",
      "             last_letter = 'f'              male : female =     15.2 : 1.0\n",
      "             last_letter = 'p'              male : female =     11.2 : 1.0\n",
      "             last_letter = 'd'              male : female =     10.6 : 1.0\n",
      "             last_letter = 'm'              male : female =     10.6 : 1.0\n",
      "             last_letter = 'v'              male : female =      9.8 : 1.0\n",
      "             last_letter = 'o'              male : female =      9.2 : 1.0\n",
      "             last_letter = 'g'              male : female =      7.2 : 1.0\n",
      "             last_letter = 'r'              male : female =      7.1 : 1.0\n",
      "None\n"
     ]
    }
   ],
   "source": [
    "last_letter_model = test_model(last_letter, corpus)"
   ]
  },
  {
   "cell_type": "markdown",
   "metadata": {},
   "source": [
    "These are interesting results! Let's examine and visualize the error data. "
   ]
  },
  {
   "cell_type": "code",
   "execution_count": 10,
   "metadata": {},
   "outputs": [
    {
     "name": "stdout",
     "output_type": "stream",
     "text": [
      "\n",
      "Errors\n",
      "          name   label   guess              features\n",
      "76      Ronnie    male  female  {'last_letter': 'e'}\n",
      "100   Christan  female    male  {'last_letter': 'n'}\n",
      "51      Carmon  female    male  {'last_letter': 'n'}\n",
      "63         Tye    male  female  {'last_letter': 'e'}\n",
      "105      Marin  female    male  {'last_letter': 'n'}\n",
      "56      Beilul  female    male  {'last_letter': 'l'}\n",
      "17      Jeffry    male  female  {'last_letter': 'y'}\n",
      "47     Joelynn  female    male  {'last_letter': 'n'}\n",
      "0      Corabel  female    male  {'last_letter': 'l'}\n",
      "90      Amabel  female    male  {'last_letter': 'l'}\n",
      "61       Bliss  female    male  {'last_letter': 's'}\n",
      "66         Ace    male  female  {'last_letter': 'e'}\n",
      "2       Brigit  female    male  {'last_letter': 't'}\n",
      "50       Carey    male  female  {'last_letter': 'y'}\n",
      "94    Gabriele    male  female  {'last_letter': 'e'}\n",
      "42   Gwendolen  female    male  {'last_letter': 'n'}\n",
      "15      Sydney    male  female  {'last_letter': 'y'}\n",
      "6        Lorne    male  female  {'last_letter': 'e'}\n",
      "57     Beitris  female    male  {'last_letter': 's'}\n",
      "83       Noach    male  female  {'last_letter': 'h'}\n"
     ]
    },
    {
     "data": {
      "text/plain": [
       "<matplotlib.axes._subplots.AxesSubplot at 0x11ecc2550>"
      ]
     },
     "execution_count": 10,
     "metadata": {},
     "output_type": "execute_result"
    },
    {
     "data": {
      "image/png": "[encoded data removed]",
      "text/plain": [
       "<Figure size 1440x720 with 1 Axes>"
      ]
     },
     "metadata": {
      "needs_background": "light"
     },
     "output_type": "display_data"
    }
   ],
   "source": [
    "errors = find_errors(last_letter, last_letter_model)\n",
    "#create dataframe for bar plot\n",
    "hister = pd.DataFrame(errors[['features','guess']])\n",
    "hister = pd.DataFrame(hister['features'].tolist(), index=hister.index)\n",
    "hister2 = pd.DataFrame(hister['last_letter'].value_counts())\n",
    "hister2 = hister2.sort_values('last_letter',ascending=False)\n",
    "hister2.reset_index(level=0, inplace=True)\n",
    "        \n",
    "#plot bar plot of errors caused by last letter\n",
    "hister2.plot('index','last_letter', kind='bar',figsize=(20,10), fontsize=14,title=\"Errors: Most Common Last Letter\")"
   ]
  },
  {
   "cell_type": "markdown",
   "metadata": {},
   "source": [
    "Ending in 'a' is the only letter in the top ten that predicts female names instead of male names. Depending on the run, either 'n' or 'e' is the last letter that prodices the most errors."
   ]
  },
  {
   "cell_type": "markdown",
   "metadata": {},
   "source": [
    "### Training on the last 3 letters of the name"
   ]
  },
  {
   "cell_type": "markdown",
   "metadata": {},
   "source": [
    "Next, we try the last 3 letters. "
   ]
  },
  {
   "cell_type": "code",
   "execution_count": 11,
   "metadata": {},
   "outputs": [
    {
     "name": "stdout",
     "output_type": "stream",
     "text": [
      "Reslicer returns 3 sliced, remixed set of corpuses:\n",
      "\tThe first returned value is the remixed training corpus, length is variable\n",
      "\tThe second returned value is the remixed dev-test corpus, length is 500\n",
      "\tThe third returned value is the un-remixed test set, length is 500\n",
      "\n",
      "Training Corpus Sample:  [('Prudy', 'female'), ('Enriqueta', 'female'), ('Toby', 'female')] , Length:  6944\n",
      "Dev-Test Corpus Sample:  [('Carmina', 'female'), ('Kali', 'female'), ('Janean', 'female')] , Length:  500\n",
      "Test Corpus Sample:  [('Hannis', 'female'), ('Lawerence', 'male'), ('Elga', 'female')] , Length:  500\n",
      "\n",
      "\n",
      "Model is 75.40 percent accurate\n",
      "\n",
      "\n",
      "Most Informative Features\n",
      "            last3letters = 'tta'          female : male   =     25.0 : 1.0\n",
      "            last3letters = 'ana'          female : male   =     24.1 : 1.0\n",
      "            last3letters = 'vin'            male : female =     18.2 : 1.0\n",
      "            last3letters = 'ard'            male : female =     18.1 : 1.0\n",
      "            last3letters = 'nne'          female : male   =     17.3 : 1.0\n",
      "            last3letters = 'old'            male : female =     17.2 : 1.0\n",
      "            last3letters = 'lee'          female : male   =     16.9 : 1.0\n",
      "            last3letters = 'ita'          female : male   =     15.5 : 1.0\n",
      "            last3letters = 'ela'          female : male   =     14.3 : 1.0\n",
      "            last3letters = 'dra'          female : male   =     13.4 : 1.0\n",
      "None\n"
     ]
    }
   ],
   "source": [
    "def last3letters(name):\n",
    "    return {\"last3letters\": name[-3:]}  # feature set\n",
    "\n",
    "#note, we are automatically re-slicing the training/dev-test slices\n",
    "last3letters_model = test_model(last3letters, corpus) "
   ]
  },
  {
   "cell_type": "markdown",
   "metadata": {},
   "source": [
    "Again, let's examine errors."
   ]
  },
  {
   "cell_type": "code",
   "execution_count": 12,
   "metadata": {},
   "outputs": [
    {
     "name": "stdout",
     "output_type": "stream",
     "text": [
      "\n",
      "Errors\n",
      "         name   label   guess                 features\n",
      "8     Hershel    male  female  {'last3letters': 'hel'}\n",
      "47    Kristen  female    male  {'last3letters': 'ten'}\n",
      "22  Stillmann    male  female  {'last3letters': 'ann'}\n",
      "15      Casey    male  female  {'last3letters': 'sey'}\n",
      "41   Zacharie    male  female  {'last3letters': 'rie'}\n",
      "3       Piggy    male  female  {'last3letters': 'ggy'}\n",
      "10      Hogan    male  female  {'last3letters': 'gan'}\n",
      "20      Bucky    male  female  {'last3letters': 'cky'}\n",
      "63     Terrel    male  female  {'last3letters': 'rel'}\n",
      "65     Yancey    male  female  {'last3letters': 'cey'}\n",
      "40     Ronnie    male  female  {'last3letters': 'nie'}\n",
      "23    Gonzalo    male  female  {'last3letters': 'alo'}\n",
      "46    Ainsley  female    male  {'last3letters': 'ley'}\n",
      "0        Emil    male  female  {'last3letters': 'mil'}\n",
      "45     Mischa    male  female  {'last3letters': 'cha'}\n",
      "56      Chris    male  female  {'last3letters': 'ris'}\n",
      "38  Salvatore    male  female  {'last3letters': 'ore'}\n",
      "35      Sandy    male  female  {'last3letters': 'ndy'}\n",
      "52     Michal    male  female  {'last3letters': 'hal'}\n",
      "29  Agamemnon    male  female  {'last3letters': 'non'}\n"
     ]
    },
    {
     "data": {
      "text/plain": [
       "<matplotlib.axes._subplots.AxesSubplot at 0x11ebce550>"
      ]
     },
     "execution_count": 12,
     "metadata": {},
     "output_type": "execute_result"
    },
    {
     "data": {
      "image/png": "[encoded data removed]",
      "text/plain": [
       "<Figure size 1440x720 with 1 Axes>"
      ]
     },
     "metadata": {
      "needs_background": "light"
     },
     "output_type": "display_data"
    }
   ],
   "source": [
    "errors = find_errors(last3letters, last3letters_model)\n",
    "#create dataframe for bar plot\n",
    "hister = pd.DataFrame(errors[['features','guess']])\n",
    "hister = pd.DataFrame(hister['features'].tolist(), index=hister.index)\n",
    "\n",
    "hister2 = pd.DataFrame(hister['last3letters'].value_counts())\n",
    "hister2 = hister2.sort_values('last3letters',ascending=False)\n",
    "        \n",
    "hister2.reset_index(level=0, inplace=True)\n",
    "        \n",
    "#plot bar plot of errors caused by last letter\n",
    "hister2.plot('index','last3letters', kind='bar',figsize=(20,10), fontsize=14,title=\"Errors: Last 3 Letters\")"
   ]
  },
  {
   "cell_type": "markdown",
   "metadata": {},
   "source": [
    "Interestingly, there is no stand-out here--the highest value error is names that end in \"nie\", but this only occurred 4 times. While it would be tempting to specifically dig into those 4 names, it wouldn't add much value to the overall accuracy of the model."
   ]
  },
  {
   "cell_type": "markdown",
   "metadata": {},
   "source": [
    "### Training on the last 3 letters and the last letter\n",
    "\n",
    "Finally, we try a combination of the last three letters as well as the last letter. "
   ]
  },
  {
   "cell_type": "code",
   "execution_count": 13,
   "metadata": {},
   "outputs": [
    {
     "name": "stdout",
     "output_type": "stream",
     "text": [
      "Reslicer returns 3 sliced, remixed set of corpuses:\n",
      "\tThe first returned value is the remixed training corpus, length is variable\n",
      "\tThe second returned value is the remixed dev-test corpus, length is 500\n",
      "\tThe third returned value is the un-remixed test set, length is 500\n",
      "\n",
      "Training Corpus Sample:  [('Dominica', 'female'), ('Kim', 'male'), ('Joye', 'female')] , Length:  6944\n",
      "Dev-Test Corpus Sample:  [('Jayme', 'female'), ('Roxie', 'female'), ('Frans', 'male')] , Length:  500\n",
      "Test Corpus Sample:  [('Hannis', 'female'), ('Lawerence', 'male'), ('Elga', 'female')] , Length:  500\n",
      "\n",
      "\n",
      "Model is 78.20 percent accurate\n",
      "\n",
      "\n",
      "Most Informative Features\n",
      "             last_letter = 'a'            female : male   =     37.2 : 1.0\n",
      "            last3letters = 'nne'          female : male   =     29.3 : 1.0\n",
      "             last_letter = 'k'              male : female =     28.2 : 1.0\n",
      "            last3letters = 'ana'          female : male   =     25.0 : 1.0\n",
      "            last3letters = 'ita'          female : male   =     25.0 : 1.0\n",
      "            last3letters = 'ard'            male : female =     24.7 : 1.0\n",
      "            last3letters = 'tta'          female : male   =     24.1 : 1.0\n",
      "            last3letters = 'lyn'          female : male   =     22.0 : 1.0\n",
      "            last3letters = 'old'            male : female =     17.2 : 1.0\n",
      "            last3letters = 'vin'            male : female =     16.1 : 1.0\n",
      "None\n"
     ]
    }
   ],
   "source": [
    "def two_features(name):\n",
    "    return {\"last_letter\": name[-1], \"last3letters\": name[-3:]}  # feature set\n",
    "\n",
    "#note, we are automatically re-slicing the training/dev-test slices\n",
    "two_features_model = test_model(two_features, corpus) "
   ]
  },
  {
   "cell_type": "code",
   "execution_count": 14,
   "metadata": {},
   "outputs": [
    {
     "name": "stdout",
     "output_type": "stream",
     "text": [
      "\n",
      "Errors\n",
      "        name   label   guess                                     features\n",
      "17     Benji    male  female  {'last_letter': 'i', 'last3letters': 'nji'}\n",
      "70   Quincey    male  female  {'last_letter': 'y', 'last3letters': 'cey'}\n",
      "63     Agnes  female    male  {'last_letter': 's', 'last3letters': 'nes'}\n",
      "66  Christan  female    male  {'last_letter': 'n', 'last3letters': 'tan'}\n",
      "56    Wallie    male  female  {'last_letter': 'e', 'last3letters': 'lie'}\n",
      "18     Jonis  female    male  {'last_letter': 's', 'last3letters': 'nis'}\n",
      "1      Tabby    male  female  {'last_letter': 'y', 'last3letters': 'bby'}\n",
      "37     Tucky    male  female  {'last_letter': 'y', 'last3letters': 'cky'}\n",
      "58   Jenifer  female    male  {'last_letter': 'r', 'last3letters': 'fer'}\n",
      "67       Max  female    male  {'last_letter': 'x', 'last3letters': 'Max'}\n",
      "39     Bliss  female    male  {'last_letter': 's', 'last3letters': 'iss'}\n",
      "71      Vite    male  female  {'last_letter': 'e', 'last3letters': 'ite'}\n",
      "69     Kirby  female    male  {'last_letter': 'y', 'last3letters': 'rby'}\n",
      "68     Darby  female    male  {'last_letter': 'y', 'last3letters': 'rby'}\n",
      "5   Hortense  female    male  {'last_letter': 'e', 'last3letters': 'nse'}\n",
      "32       Liz  female    male  {'last_letter': 'z', 'last3letters': 'Liz'}\n",
      "7       Kane    male  female  {'last_letter': 'e', 'last3letters': 'ane'}\n",
      "78    Partha    male  female  {'last_letter': 'a', 'last3letters': 'tha'}\n",
      "0     Lorrie    male  female  {'last_letter': 'e', 'last3letters': 'rie'}\n",
      "46   Abagael  female    male  {'last_letter': 'l', 'last3letters': 'ael'}\n",
      "     last3letters\n",
      "rby             3\n",
      "nny             3\n",
      "ris             2\n",
      "cky             2\n",
      "ney             2\n",
      "   last_letter\n",
      "y           23\n",
      "e           15\n",
      "n           11\n",
      "s            7\n",
      "l            6\n"
     ]
    },
    {
     "data": {
      "text/plain": [
       "<matplotlib.axes._subplots.AxesSubplot at 0x12151c470>"
      ]
     },
     "execution_count": 14,
     "metadata": {},
     "output_type": "execute_result"
    },
    {
     "data": {
      "image/png": "[encoded data removed]",
      "text/plain": [
       "<Figure size 1440x720 with 1 Axes>"
      ]
     },
     "metadata": {
      "needs_background": "light"
     },
     "output_type": "display_data"
    }
   ],
   "source": [
    "errors = find_errors(two_features, two_features_model)\n",
    "        \n",
    "#create dataframe for bar plot\n",
    "hister = pd.DataFrame(errors[['features','guess']])\n",
    "hister = pd.DataFrame(hister['features'].tolist(), index=hister.index)\n",
    "\n",
    "hister2 = pd.DataFrame(hister['last3letters'].value_counts())\n",
    "hister3 = pd.DataFrame(hister['last_letter'].value_counts())\n",
    "        \n",
    "print(hister2.head())\n",
    "print(hister3.head())\n",
    "        \n",
    "hister2.reset_index(level=0, inplace=True)\n",
    "hister3.reset_index(level=0, inplace=True)\n",
    "hister2['feature'] = hister2['last3letters']\n",
    "hister3['feature'] = hister3['last_letter']\n",
    "        \n",
    "frames = [hister2,hister3]\n",
    "result = pd.concat(frames,sort=True)\n",
    "result = result.sort_values('feature',ascending=False)\n",
    "        \n",
    "#plot bar plot of errors caused by last letter\n",
    "result.plot('index','feature', kind='bar',figsize=(20,10), fontsize=14,title=\"Errors: Last 3 Letters and Last Letter\")\n",
    "        "
   ]
  },
  {
   "cell_type": "markdown",
   "metadata": {},
   "source": [
    "Adding the last three letters increased our accuracy by about 5 percentage points!\n",
    "\n",
    "It appears that names ending with the letter \"y\" are the most problematic, followed by a combination of \"e\", \"y\" and \"l\", just as when the model was run analyzing the last letter of the name exclusively. Similarly the 3-letter endings provide a similar error distribution.\n",
    "\n",
    "Interestingly, each time we re-run the model, the data is re-sliced, yielding slightly different results in both the model accuracy and the error information! In some runs, \"e\" is the most problematic ending, while in others it is \"y\"! This is because our ```test_model``` function automatically reslices the development data, producing slightly different results."
   ]
  },
  {
   "cell_type": "markdown",
   "metadata": {},
   "source": [
    "### Three features\n",
    "   \n",
    "If two features are better than one, will three be even better?"
   ]
  },
  {
   "cell_type": "code",
   "execution_count": 15,
   "metadata": {},
   "outputs": [
    {
     "name": "stdout",
     "output_type": "stream",
     "text": [
      "Reslicer returns 3 sliced, remixed set of corpuses:\n",
      "\tThe first returned value is the remixed training corpus, length is variable\n",
      "\tThe second returned value is the remixed dev-test corpus, length is 500\n",
      "\tThe third returned value is the un-remixed test set, length is 500\n",
      "\n",
      "Training Corpus Sample:  [('Silvia', 'female'), ('Bud', 'male'), ('Christabella', 'female')] , Length:  6944\n",
      "Dev-Test Corpus Sample:  [('Evelyn', 'male'), ('Moss', 'male'), ('Jacynth', 'female')] , Length:  500\n",
      "Test Corpus Sample:  [('Hannis', 'female'), ('Lawerence', 'male'), ('Elga', 'female')] , Length:  500\n",
      "\n",
      "\n",
      "Model is 80.80 percent accurate\n",
      "\n",
      "\n",
      "Most Informative Features\n",
      "             last_letter = 'k'              male : female =     41.1 : 1.0\n",
      "             last_letter = 'a'            female : male   =     34.5 : 1.0\n",
      "            last3letters = 'tta'          female : male   =     24.3 : 1.0\n",
      "            last3letters = 'ana'          female : male   =     23.0 : 1.0\n",
      "            last3letters = 'ard'            male : female =     19.2 : 1.0\n",
      "            last3letters = 'ert'            male : female =     17.7 : 1.0\n",
      "            last3letters = 'old'            male : female =     17.0 : 1.0\n",
      "            last3letters = 'vin'            male : female =     17.0 : 1.0\n",
      "            last3letters = 'lee'          female : male   =     17.0 : 1.0\n",
      "            last3letters = 'nne'          female : male   =     16.7 : 1.0\n",
      "None\n"
     ]
    }
   ],
   "source": [
    "def three_features(name):\n",
    "    return {\"last_letter\": name[-1], \"last3letters\": name[-3:], \"first_letter\": name[0]}  # feature set\n",
    "\n",
    "#note, we are automatically re-slicing the training/dev-test slices\n",
    "three_features_model = test_model(three_features, corpus) "
   ]
  },
  {
   "cell_type": "markdown",
   "metadata": {},
   "source": [
    "Interestingly, this didn't make a difference at all! Looks like the two_features_model is the winner. We can now test our best model on the test data--which has so far not been used to train any of the models."
   ]
  },
  {
   "cell_type": "markdown",
   "metadata": {},
   "source": [
    "### Test model on unused data (```test_names```)\n",
    "\n",
    "The final step is to use the classify the ```test_set``` using ```two_features_model``` to see how we did. "
   ]
  },
  {
   "cell_type": "code",
   "execution_count": 16,
   "metadata": {},
   "outputs": [
    {
     "name": "stdout",
     "output_type": "stream",
     "text": [
      "\n",
      "\n",
      "Model is 77.00 percent accurate when used on the the test set\n",
      "\n",
      "\n"
     ]
    }
   ],
   "source": [
    "def final_test(classifier, feature_func):\n",
    "    \n",
    "    #generate test_set\n",
    "    test_set = [(feature_func(n), gender) for (n, gender) in test_names] #note that reslicer generated this var\n",
    "        \n",
    "    \n",
    "    #test the accuracy of the model on the test set\n",
    "    a = round(nltk.classify.accuracy(classifier, test_set), 4)*100\n",
    "    \n",
    "    #format and print output\n",
    "    accuracy = f'{a:.2f}'\n",
    "    print(\"\\n\")\n",
    "    print(\"Model is %s percent accurate when used on the the test set\" % accuracy)\n",
    "    print(\"\\n\")\n",
    "    \n",
    "\n",
    "final_test(two_features_model, two_features)"
   ]
  },
  {
   "cell_type": "markdown",
   "metadata": {},
   "source": [
    "## Conclusion\n",
    "\n",
    "In conclusion, the final test does not produce identical results when run on the test set (or even re-run on the development set). In fact, it look almost 4 points worse!\n",
    "\n",
    "This should not be surprising because the model is making a prediction based on patterns that are not necessarily hard and fast rules. \n",
    "\n",
    "An interesting project for further study would be to add weights to the names based on the number of people who have each name so that more common names more heavily tilt the model. While this might not produce a more accurate result looking at a list of names, it should be more accurate when dealing with new, real-world data."
   ]
  }
 ],
 "metadata": {
  "kernelspec": {
   "display_name": "Python 3",
   "language": "python",
   "name": "python3"
  },
  "language_info": {
   "codemirror_mode": {
    "name": "ipython",
    "version": 3
   },
   "file_extension": ".py",
   "mimetype": "text/x-python",
   "name": "python",
   "nbconvert_exporter": "python",
   "pygments_lexer": "ipython3",
   "version": "3.7.3"
  },
  "toc": {
   "base_numbering": 1,
   "nav_menu": {},
   "number_sections": false,
   "sideBar": true,
   "skip_h1_title": false,
   "title_cell": "Table of Contents",
   "title_sidebar": "Contents",
   "toc_cell": false,
   "toc_position": {},
   "toc_section_display": true,
   "toc_window_display": false
  }
 },
 "nbformat": 4,
 "nbformat_minor": 2
}
